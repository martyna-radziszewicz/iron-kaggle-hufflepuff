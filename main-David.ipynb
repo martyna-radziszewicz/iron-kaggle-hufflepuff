{
 "cells": [
  {
   "cell_type": "code",
   "execution_count": 2,
   "metadata": {},
   "outputs": [],
   "source": [
    "# 📚 Basic Libraries\n",
    "import pandas as pd\n",
    "import numpy as np\n",
    "\n",
    "# 📊 Visualizations\n",
    "import matplotlib.pyplot as plt\n",
    "import seaborn as sns\n",
    "import plotly.express as px\n",
    "import plotly.graph_objects as go\n",
    "\n",
    "# 🤖 Machine Learning\n",
    "from sklearn.model_selection import train_test_split\n",
    "from sklearn.linear_model import LinearRegression\n",
    "from sklearn.metrics import r2_score, mean_squared_error, mean_absolute_error, root_mean_squared_error"
   ]
  },
  {
   "cell_type": "code",
   "execution_count": 3,
   "metadata": {},
   "outputs": [],
   "source": [
    "data = pd.read_csv(\"/Users/martyna/dev/iron hack/labs/iron-kaggle-hufflepuff/king_ country_ houses_aa.csv\")\n",
    "df = data.copy()"
   ]
  },
  {
   "cell_type": "markdown",
   "metadata": {},
   "source": [
    "The dataset cantains 20 house features plus the price, along with 21613 observations.\n",
    "\n",
    "The description for the 20 features is given below:\n",
    "\n",
    "id :- It is the unique numeric number assigned to each house being sold.\n",
    "date :- It is the date on which the house was sold out.\n",
    "price:- It is the price of house which we have to predict so this is our target variable and aprat from it are our features.\n",
    "bedrooms :- It determines number of bedrooms in a house.\n",
    "bathrooms :- It determines number of bathrooms in a bedroom of a house.\n",
    "sqft_living :- It is the measurement variable which determines the measurement of house in square foot.\n",
    "sqft_lot : It is also the measurement variable which determines square foot of the lot.\n",
    "floors: It determines total floors means levels of house.\n",
    "waterfront : This feature determines whether a house has a view to waterfront 0 means no 1 means yes.\n",
    "view : This feature determines whether a house has been viewed or not 0 means no 1 means yes.\n",
    "condition : It determines the overall condition of a house on a scale of 1 to 5.\n",
    "grade : It determines the overall grade given to the housing unit, based on King County grading system on a scale of 1 to 11\n",
    "sqft_above : It determines square footage of house apart from basement.\n",
    "sqft_basement : It determines square footage of the basement of the house.\n",
    "yr_built : It detrmines the date of building of the house.\n",
    "yr_renovated : It detrmines year of renovation of house.\n",
    "zipcode : It determines the zipcode of the location of the house.\n",
    "lat : It determines the latitude of the location of the house.\n",
    "long : It determines the longitude of the location of the house.\n",
    "sqft_living15 : Living room area in 2015(implies-- some renovations)\n",
    "sqft_lot15 : lotSize area in 2015(implies-- some renovations)"
   ]
  },
  {
   "cell_type": "code",
   "execution_count": null,
   "metadata": {},
   "outputs": [],
   "source": []
  }
 ],
 "metadata": {
  "kernelspec": {
   "display_name": ".venv",
   "language": "python",
   "name": "python3"
  },
  "language_info": {
   "codemirror_mode": {
    "name": "ipython",
    "version": 3
   },
   "file_extension": ".py",
   "mimetype": "text/x-python",
   "name": "python",
   "nbconvert_exporter": "python",
   "pygments_lexer": "ipython3",
   "version": "3.12.4"
  }
 },
 "nbformat": 4,
 "nbformat_minor": 2
}
